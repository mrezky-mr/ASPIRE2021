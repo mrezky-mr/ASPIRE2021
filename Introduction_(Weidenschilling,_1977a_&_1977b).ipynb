{
  "nbformat": 4,
  "nbformat_minor": 0,
  "metadata": {
    "colab": {
      "name": "Introduction (Weidenschilling, 1977a & 1977b)",
      "provenance": [],
      "collapsed_sections": [],
      "authorship_tag": "ABX9TyMM0zmGb85+hVjF4QL0jZlk",
      "include_colab_link": true
    },
    "kernelspec": {
      "name": "python3",
      "display_name": "Python 3"
    },
    "language_info": {
      "name": "python"
    }
  },
  "cells": [
    {
      "cell_type": "markdown",
      "metadata": {
        "id": "view-in-github",
        "colab_type": "text"
      },
      "source": [
        "<a href=\"https://colab.research.google.com/github/mrezky-mr/ASPIRE2021/blob/main/Introduction_(Weidenschilling%2C_1977a_%26_1977b).ipynb\" target=\"_parent\"><img src=\"https://colab.research.google.com/assets/colab-badge.svg\" alt=\"Open In Colab\"/></a>"
      ]
    },
    {
      "cell_type": "markdown",
      "metadata": {
        "id": "e4XnImnD8g0I"
      },
      "source": [
        "This notebook covers Week 1 exercises, related to Weidenschilling's papers."
      ]
    },
    {
      "cell_type": "markdown",
      "metadata": {
        "id": "Ymg9WhW-8yu9"
      },
      "source": [
        "# Weidenschilling 1977a (Aerodynamics of solid bodies in the solar nebula)"
      ]
    },
    {
      "cell_type": "markdown",
      "metadata": {
        "id": "e5xUd_-j91fo"
      },
      "source": [
        "1. Write down the force balance for a solid particle in Keplerian motion around the central star."
      ]
    },
    {
      "cell_type": "markdown",
      "metadata": {
        "id": "xp7ipLPUA4kN"
      },
      "source": [
        ">$$ F_{grav.} = F_{cent.}$$\n",
        "\n",
        ">$$ \\frac{GM_{\\odot}}{r^2} = \\frac{V^2_k}{r} = g $$\n",
        "\n"
      ]
    },
    {
      "cell_type": "markdown",
      "metadata": {
        "id": "9UPeXd0pDXxN"
      },
      "source": [
        "---\n",
        "2. Do the same for a parcel of gas (note: gas is also pressure supported)."
      ]
    },
    {
      "cell_type": "markdown",
      "metadata": {
        "id": "FhEzpaKNDepT"
      },
      "source": [
        "From hydrostatic pressure, $ P = \\rho g r $, we can convert it to\n",
        "\n",
        ">$$ g = \\frac{1}{\\rho} \\frac{P}{r} \\implies \\Delta g = \\frac{1}{\\rho} \\frac{dP}{dr}$$\n",
        "\n",
        "For a parcel of gas, the forces are balancing between centrifugal and gravitational + gas pressure, so that\n",
        "\n",
        ">$$ F_{cent.} = F_{grav.} + m \\cdot \\Delta g $$\n",
        "\n",
        ">$$ \\frac{V_g^2}{r} = \\frac{GM_{\\odot}}{r^2} + \\frac{1}{\\rho} \\frac{dP}{dr}$$"
      ]
    },
    {
      "cell_type": "markdown",
      "metadata": {
        "id": "XPJahAMmG9Sm"
      },
      "source": [
        "---\n",
        "3. Use the assumption of an ideal gas. What is the deviation from the Kepler velocity for a gas parcel? Express this in form of $v_{gas} = v_{K} - \\eta v_{K}$. Can you estimate the $\\eta$?"
      ]
    },
    {
      "cell_type": "markdown",
      "metadata": {
        "id": "IXOFG2jnHcLl"
      },
      "source": [
        "Ideal gas law stated that\n",
        "> $$PV = nRT \\implies P \\frac{m}{\\rho} = \\frac{m}{\\mu}RT$$\n",
        "\n",
        "which could be rearranged as\n",
        "\n",
        "> $$ P = \\rho \\frac{RT}{\\mu} = \\rho \\cdot C_s^2 $$\n",
        "\n",
        "with $C_s^2$ is the isothermal sound speed. This also means that we can use the power law approximation of the pressure,\n",
        "\n",
        "> $$ P = P_{0} \\cdot \\bigg( \\frac{r}{r_0}\\bigg)^{-n} $$\n",
        "\n",
        "to derive the equation from before.\n",
        "\n",
        "> $$ \\frac{dP}{dr} = P_{0} \\cdot r_0^n \\cdot \\frac{d}{dr} r^{-n} = - \\frac{n}{r} \\cdot P_{0} \\bigg( \\frac{r}{r_0}\\bigg)^{-n} = - \\frac{n \\cdot P}{r} = - \\frac{n \\cdot \\rho C_s^2}{r}$$\n",
        "\n",
        "Subtitute it (and the equation from number 1) to the force balance of a gas parcel,\n",
        "\n",
        "> $$ \\frac{V_g^2}{r} = \\frac{V_K^2}{r} - \\frac{n \\cdot C_s^2}{r}$$\n",
        "\n",
        "> $$ V_g^2 = V_K^2 - \\bigg( \\frac{n \\cdot C_s^2}{V_K^2} \\bigg) V_K^2$$\n",
        "\n",
        "> $$ V_g^2 = V_K^2 - \\eta V_K^2 $$\n",
        "\n",
        "> $$V_g = V_K (1-\\eta)^{1/2}$$"
      ]
    },
    {
      "cell_type": "markdown",
      "metadata": {
        "id": "fyEPRfAhTg4E"
      },
      "source": [
        "4. It turns out that the gas rotates somewhat less than Keplerian. This means that solid particles that are small enough are being slowed sown by gas drag: the gas wants to eliminate the velocity difference with the solid. The time needed to slow down a solid particle significantly is called the stopping time ($t_s$). Can you explain why this timescale has two regimes?  "
      ]
    },
    {
      "cell_type": "markdown",
      "metadata": {
        "id": "B6BxfcwMUE74"
      },
      "source": [
        "The regimes represent different interaction occurs between the solid particle and the gas. This interaction involves the particle's radius $r$ and the gas' molecular mean free path $\\lambda_{mfp}$. \n",
        "\n",
        "The Epstein regime happens when $\\lambda > \\frac{4}{9}s$. This means that each particle will interact (collide) with each of the gas molecules, which involves momentum. Therefore, any drag calculation in this regime will depends on the velocity of the solid particle.\n",
        "\n",
        "Meanwhile, the Stokes regime happens when $\\lambda < \\frac{4}{9}s$. This means that the drag came from the interaction between particle and the ideal gas parcel, which considered as a liquid. Therefore, the drag calculated will involve the gas viscosity and the state of the liquid flow (represented by Reynolds number)."
      ]
    },
    {
      "cell_type": "markdown",
      "metadata": {
        "id": "jgJV9DcmaXrU"
      },
      "source": [
        "---\n",
        "5. Write down $t_s$ in both the Stokes and the Epstein regimes, in terms of given quantities. What's the biggest difference between them? "
      ]
    },
    {
      "cell_type": "markdown",
      "metadata": {
        "id": "RPjqhOkpauU7"
      },
      "source": [
        "For Epstein,\n",
        "\n",
        "> $$ t_e = \\frac{\\rho_s \\cdot s}{\\rho \\cdot v_{th}} $$\n",
        "\n",
        "with $\\rho_s$ is the solid particle density, $\\rho$ is the gas density, $s$ is the particle size and $v_{th}$ is the mean thermal velocity of the gas molecule. This regime looks closely at the microproperty of the gas.\n",
        "\n",
        "For Stokes,\n",
        "\n",
        "> $$ t_e = \\frac{2\\rho_s \\cdot s^2}{9\\nu}$$\n",
        "\n",
        "with $\\nu$ is the gas viscosity. This regime looks closely at the macroproperty of the gas."
      ]
    },
    {
      "cell_type": "markdown",
      "metadata": {
        "id": "zNazFX8mavwu"
      },
      "source": [
        "---\n",
        "6. Since the solid particle looses angular momentum due to gas drag, it spirals inwards (drifts) towards the star. Can you find an expression for the radial drift velocity of the solid particle? Use motivated approximation if necessary."
      ]
    },
    {
      "cell_type": "markdown",
      "metadata": {
        "id": "dwfbqxGIbDqM"
      },
      "source": [
        "[answer here]"
      ]
    },
    {
      "cell_type": "markdown",
      "metadata": {
        "id": "PGvyah4dbFlG"
      },
      "source": [
        "---\n",
        "7. Use a graphical package in your favourite programming language to plot the radial drift velocity as a function of the solid particle size. Use logarithmic axis (like plt.loglog()). Use motivated and realistic values for constants if you need to (look in the article if necessary). For which size does the solid drift inwards the fastest?"
      ]
    },
    {
      "cell_type": "code",
      "metadata": {
        "id": "LGviEOKHbztL"
      },
      "source": [
        "[code here]"
      ],
      "execution_count": null,
      "outputs": []
    },
    {
      "cell_type": "markdown",
      "metadata": {
        "id": "lsYHgTFRb1fF"
      },
      "source": [
        "[answer here]"
      ]
    },
    {
      "cell_type": "markdown",
      "metadata": {
        "id": "PmiNBhrwb34O"
      },
      "source": [
        "---\n",
        "8. To describe the dinamics of solids in the presence of gas, we do not use the size of the solid. We'll use their stopping time. The reason for this is that the aerodynamic properties as a function od their size of the solid are more accurate in gas. To relate the time needed to stop the solid to the Keplerian orbital frequency $\\Omega_K$, we use the Stokes number. This is defined as the dimensionless quantity $\\tau_s = t_s \\Omega_K$, where $t_s$ is the stopping time in seconds. Can you plot the radial drift velocity (again loglog) as a function of Stokes number at 1 AU orbital distance from the star? For which Stokes number does the solid drift the fastest? "
      ]
    },
    {
      "cell_type": "code",
      "metadata": {
        "id": "81TPPV9tcyit"
      },
      "source": [
        "[code here]"
      ],
      "execution_count": null,
      "outputs": []
    },
    {
      "cell_type": "markdown",
      "metadata": {
        "id": "xiOXTw8Xc0Gi"
      },
      "source": [
        "[answer here]"
      ]
    },
    {
      "cell_type": "markdown",
      "metadata": {
        "id": "RWQVn8__aToZ"
      },
      "source": [
        "\\"
      ]
    },
    {
      "cell_type": "markdown",
      "metadata": {
        "id": "B2FBokKAUnA2"
      },
      "source": [
        "---\n",
        "# Weidenschilling 1977b and related papers (Disk gas profile and behaviour)"
      ]
    },
    {
      "cell_type": "markdown",
      "metadata": {
        "id": "FUTuGPojU4QF"
      },
      "source": [
        "1. Can you explain briefly what motivates the power law assumption for the surface density profile?"
      ]
    },
    {
      "cell_type": "markdown",
      "metadata": {
        "id": "HeiNUlREXdt6"
      },
      "source": [
        "Weidenschilling tried to reconstruct the solar nebula model by spreading the H, He, and Fe (and other notable metals) abundance of each planet to their respective zone limits on the model and then calculate their surface density $\\sigma$. The plot formed by $\\sigma$ of each planet as a function of radius showed a general trend of $\\sigma \\propto r^{-3/2}$, which is a power law relation."
      ]
    },
    {
      "cell_type": "markdown",
      "metadata": {
        "id": "gbD4mas-VE3P"
      },
      "source": [
        "---\n",
        "2. The temperature profile is also assumed to be a simple power law expression in disk radius. Can you explain in general why this could make sense?"
      ]
    },
    {
      "cell_type": "markdown",
      "metadata": {
        "id": "TyxamXniXY5f"
      },
      "source": [
        "We regard the gas inside the disk as an ideal gas, which means that the change in pressure and temperature of the gas will be parallel to each others. We also implies the isothermic nature of the disk, so that the temperature in the vertical column of the disk and the change in temperature only in relation of the radius."
      ]
    },
    {
      "cell_type": "markdown",
      "metadata": {
        "id": "dLWMvb-2VPgm"
      },
      "source": [
        "---\n",
        "Of course the disk is much more complex in reality. But for simplicity, we assume for the coming calculations our disk temperature profile $T(r)$ and our surface density profile $\\Sigma(r)$ are given by\n",
        "\n",
        "> $$ \\Sigma (r) = \\Sigma_0 \\bigg( \\frac{r}{1 \\ AU} \\bigg)^{-3/2}$$\n",
        "\n",
        "> $$ T(r) = T_0 \\bigg( \\frac{r}{1 \\ AU} \\bigg)^{-1/2}$$\n",
        "\n",
        "with $\\Sigma_0 = 1700 \\ g \\ {cm}^{-2}$ and $T_0 = 200 K$."
      ]
    },
    {
      "cell_type": "markdown",
      "metadata": {
        "id": "_a4WDqEgXqB8"
      },
      "source": [
        "---\n",
        "3. Assume that the pressure profile can also be written as a power law in r,\n",
        "\n",
        "> $$ P(r) = P_0 \\bigg( \\frac{r}{1 \\ AU} \\bigg)^{-n} $$\n",
        "\n",
        "and the pressure is isotherm, given by $P = \\rho_g C_s^2$ and $C_s = \\sqrt{RT/\\mu}$, with $R$ is the universal gas constant and $\\mu$ is the mean molecular weight. What is the value of the exponent $n$?\n",
        "\n",
        "Use equation 4 from Visser & Ormel (2016) for the gas density and assume you are in the midplane of the disk ($z = 0$)."
      ]
    },
    {
      "cell_type": "markdown",
      "metadata": {
        "id": "u4Ven7tNY3lw"
      },
      "source": [
        ""
      ]
    },
    {
      "cell_type": "markdown",
      "metadata": {
        "id": "C4ZKZrFJY5ML"
      },
      "source": [
        "---\n",
        "4. What's the difference between an isotherm and an adiabatic pressure profile?"
      ]
    },
    {
      "cell_type": "markdown",
      "metadata": {
        "id": "H96olN7RZAjF"
      },
      "source": [
        "The isothermic profile represent the simplest nebula model, with the temperature only regulated by stellar irradiation so it is relatively uniform across the vertical column of the disk. This means that the local pressure depends only on its radius from the host star and the gas density of the disk.\n",
        "\n",
        "Meanwhile, the adiabatic profile represent a more complex view on the model. The existance of the diabatic process indicates that there is an active energy transport (radiative) processes happens all across the disk. This means that the gas flows more turbulent than the isothermic model, which made the temperature and pressure of the disk varies greatly. The variety also happens vertically, as it involved a large optical depth between surface $z$ and the mid-plane. Therefore, the pressure profile of this model will depend on its Rosseland opacity, radius from the host star, gas viscosity and gas density."
      ]
    },
    {
      "cell_type": "markdown",
      "metadata": {
        "id": "gRrm2i2MZCTw"
      },
      "source": [
        "---\n",
        "5. Can you find what value $\\eta$, the fractional deviation from the Kepler velocity of the gas, has? Use the Weidenschilling (1977a) paper to find usefule relations if necessary."
      ]
    },
    {
      "cell_type": "markdown",
      "metadata": {
        "id": "G-lpDUL8ZaMW"
      },
      "source": [
        "> $$ \\eta = \\frac{n \\cdot C_s^2}{V_K^2} $$\n",
        "\n",
        "(complete explanation available on Weidenschilling (1977a) paper's exercise, number 3.)"
      ]
    },
    {
      "cell_type": "markdown",
      "metadata": {
        "id": "p9cbxc1OZ5ae"
      },
      "source": [
        "---\n",
        "6. How large is the gas \"headwind\" for a body in Keplerian orbit? Use and motivate appropriate constants and assumptions."
      ]
    },
    {
      "cell_type": "markdown",
      "metadata": {
        "id": "S5FNI6xlaIaB"
      },
      "source": [
        "The gas headwind velocity could be described in the expression,\n",
        "\n",
        "> $$v_{hw} = \\eta v_{K} = n \\frac{C_s^2}{V_K}.$$\n",
        "\n",
        "with\n",
        "\n",
        "> $$ C_s = \\sqrt{\\frac{RT}{\\mu}} $$\n",
        "\n",
        "and\n",
        "\n",
        "> $$ V_K = \\sqrt{\\frac{GM}{r}} $$\n",
        "\n",
        "By assuming the minimum mass Solar nebula (with $M = M_\\odot$), so that the $r = 1 \\ AU$, $T = 200 K$, $n = 11/4$ (from the previous exercise) and the mean molecular weight $\\mu = 2.3$, this equation results in the headwind velocity value of\n",
        "\n",
        "> $$v_{hw} = 6674.62 \\ cm \\ s^{-1}$$"
      ]
    }
  ]
}